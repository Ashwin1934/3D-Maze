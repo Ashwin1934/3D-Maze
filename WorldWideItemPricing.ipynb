{
  "nbformat": 4,
  "nbformat_minor": 0,
  "metadata": {
    "colab": {
      "name": "WorldWideItemPricing.ipynb",
      "provenance": [],
      "collapsed_sections": [],
      "include_colab_link": true
    },
    "kernelspec": {
      "name": "python3",
      "display_name": "Python 3"
    }
  },
  "cells": [
    {
      "cell_type": "markdown",
      "metadata": {
        "id": "view-in-github",
        "colab_type": "text"
      },
      "source": [
        "<a href=\"https://colab.research.google.com/github/Ashwin1934/3D-Maze/blob/master/WorldWideItemPricing.ipynb\" target=\"_parent\"><img src=\"https://colab.research.google.com/assets/colab-badge.svg\" alt=\"Open In Colab\"/></a>"
      ]
    },
    {
      "cell_type": "code",
      "metadata": {
        "id": "wP1PKtNhlWUF"
      },
      "source": [
        ""
      ],
      "execution_count": null,
      "outputs": []
    },
    {
      "cell_type": "code",
      "metadata": {
        "id": "i5cE-nnXQRwA"
      },
      "source": [
        "# Sort of like the main method;\n",
        "# takes in item, and triggers the calls to all the other functions needed\n",
        "\n",
        "\"\"\"\n",
        "REQUIRES:\n",
        "MODIFIES:\n",
        "EFFECTS: \n",
        "\"\"\"\n",
        "\n",
        "def enterItemToSearchFor(item, language_list, country_list, google_tag_list):\n",
        "  language_item_dictionary = identifyLanguage(item)\n",
        "  #the next three steps may be able to be consolidated into one method, if we store the langauges, countries, and google country tag in a different format (maybe just combine them)\n",
        "  full_item_langauge_dictionary = translateToAllLangauges(langauge_list, language_item_dictionary)\n",
        "  item_langauge_country_dictionary = addCountryToLanguageDictionary(full_item_language_dictionary, country_list)\n",
        "  item_language_country_google_tag_dictionary = addGoogleCountryTag(item_langauge_country_dictionary, google_tag_list)\n",
        "  #at this point, we have a dictionary in the format of {language: [item, country, google_tag], language: ...}\n",
        "  new_prices_dictionary = findPrices(item_language_country_google_tag_dictionary)\n",
        "  convertPrices(prices_dictionary)\n",
        "  sortPrices(normalized_prices_dictionary)\n"
      ],
      "execution_count": null,
      "outputs": []
    },
    {
      "cell_type": "code",
      "metadata": {
        "id": "62EfPyGtPgdd",
        "outputId": "fb555c21-f468-4c8d-ff61-011ffd4b6bfc",
        "colab": {
          "base_uri": "https://localhost:8080/",
          "height": 85
        }
      },
      "source": [
        "# Takes in an item/good name, and identifies what language it is in\n",
        "# There might already be an API for this? \n",
        "# Use the googletrans library, this is pip install in google colab\n",
        "#%pip install googletrans\n",
        "from googletrans import Translator\n",
        "\"\"\"\n",
        "REQUIRES: The item exists, dictionary of language to language codes\n",
        "MODIFIES:\n",
        "EFFECTS: Returns the language the item is written in as a list in the format [[language, item]], where the value is a list\n",
        "\n",
        "\"\"\"\n",
        "\n",
        "def identifyLanguage(item):\n",
        "  trans = Translator()\n",
        "  t = trans.translate(item, src='en', dest=\"es\")\n",
        "  #by definition, destination = \n",
        "  print(f'Source:{t.src}')\n",
        "  print(f'Destination:{t.dest}')\n",
        "  print(f'{t.origin} -> {t.text}')\n",
        "\n",
        "  return 0\n",
        "  \n",
        "identifyLanguage('computer')"
      ],
      "execution_count": null,
      "outputs": [
        {
          "output_type": "stream",
          "text": [
            "Source:en\n",
            "Destination:es\n",
            "computer -> computadora\n"
          ],
          "name": "stdout"
        },
        {
          "output_type": "execute_result",
          "data": {
            "text/plain": [
              "0"
            ]
          },
          "metadata": {
            "tags": []
          },
          "execution_count": 16
        }
      ]
    },
    {
      "cell_type": "code",
      "metadata": {
        "id": "Dg8s9FA6RS5Q"
      },
      "source": [
        "\"\"\"\n",
        "REQUIRES: (1)That the item be passed in from a list, with the language as keys and the item stored in an list [[language: [item]]\n",
        "          the item is kept in the native spelling, but the language is given in english\n",
        "          (2) A list of all desired languages be passed in (don't know if that is the best ds or not... you get the idea)\n",
        "MODIFIES: Adds subsequent language: [item] pairs to the list\n",
        "EFFECTS: Returns a list with all [language, item] lists\n",
        "\"\"\"\n",
        "#%pip install googletrans\n",
        "from googletrans import Translator\n",
        "\n",
        "def translateToAllLanguages(countryList, language_item_di):\n",
        "  \n",
        "  trans = Translator()\n",
        "  for i in range(len(countryList)):\n",
        "    #print(countryList[i])\n",
        "    for key in countryList[i]:\n",
        "      #print(key)\n",
        "      #print(countryList[i][key])\n",
        "      language = countryList[i][key][0]\n",
        "      #print(language)\n",
        "      #print(languageCodes[language])\n",
        "      t = trans.translate('computer', dest=languageCodes[language])\n",
        "      #print(t.text)\n",
        "      countryList[i][key].append(t.text);\n",
        "\n",
        "  return countryList\n",
        "\n",
        "\n",
        "languageList = [['German','de'], \n",
        "                       ['Spanish','es'],\n",
        "                       ['English','en'],\n",
        "                       ['Portugese','pt'],\n",
        "                       ['Japanese','ja'],\n",
        "                      ] \n",
        "languageCodes = {'German':'de','Spanish':'es','English':'en','Portugese':'pt','Japanese':'ja'}\n",
        "countryList1 = [{'United States': ['English']},\n",
        "               {'Australia': ['English']},\n",
        "               {'New Zealand': ['English']},\n",
        "               {'Brazil':['Portugese']},\n",
        "               {'Japan':['Japanese']},\n",
        "               {'Spain': ['Spanish']},\n",
        "               {'Germany':['German']}]\n",
        "#translateToAllLanguages(countryList=countryList1, language_item_di=dict())\n",
        "    \n",
        "\n",
        "\n",
        "#add the .com, .au, .in as part of this list of country dictionaries??\n",
        "# so { US: [english, computer, .com]}\n",
        "\n",
        "#then call the addGoogleCountryTag\n"
      ],
      "execution_count": null,
      "outputs": []
    },
    {
      "cell_type": "code",
      "metadata": {
        "id": "yIx66nf2MuUz"
      },
      "source": [
        "# Lets store the google country abbreviations in a dictionary\n",
        "# I think that will give us the best runtime\n",
        "# Any thoughts?\n",
        "\n",
        "\"\"\"\n",
        "REQUIRES: country exists, and is spelled correctly\n",
        "MODIFIES:\n",
        "EFFECTS: adds the country abbreviation to the langauge_country_item_dictionary\n",
        "\"\"\"\n",
        "countryDomains = {'Germany':'.de','Spain':'.es','United States':'.com','Brazil':'.com.br',\n",
        "                 'Japan':'.ci', 'Australia': '.au', 'New Zealand':'.co.nz',}\n",
        "\n",
        "#send in result from\n",
        "def addGoogleCountryTag(item_langauge_country_dictionary):\n",
        "    for i in range(len(item_langauge_country_dictionary)):\n",
        "      for key in item_langauge_country_dictionary[i]:\n",
        "        #print(key)\n",
        "        domain = countryDomains[key]\n",
        "        item_langauge_country_dictionary[i][key].append(domain)\n",
        "    return item_langauge_country_dictionary\n",
        "\n",
        "#temp = translateToAllLanguages(countryList=countryList1, language_item_di=dict())\n",
        "#print(addGoogleCountryTag(temp))\n",
        "\n",
        "#its adding the input twice? maybe i added it in the googlecountrytagmethod too\n",
        "\n",
        "#anyways, next step is send in the indexes of the item name, domain of that country and do find_prices\n"
      ],
      "execution_count": 36,
      "outputs": []
    },
    {
      "cell_type": "code",
      "metadata": {
        "id": "99eZ9iqNVgxd"
      },
      "source": [
        "# Not sure if we should have a country list (like our language list)\n",
        "# or if there is an API to use, but the idea is that for ever language: [item] pair\n",
        "# we will add the country to the pair and have it look like language: [item, country]\n",
        "\n",
        "\"\"\"\n",
        "REQUIRES: the full language dictionary, country_list\n",
        "MODIFIES:\n",
        "EFFECTS: returns the language dictionary, with country added to the value array\n",
        "\"\"\"\n",
        "def addCountryToLanguageDictionary(item_langauge_dictionary, country_list):\n",
        "  "
      ],
      "execution_count": null,
      "outputs": []
    },
    {
      "cell_type": "code",
      "metadata": {
        "id": "FGu1Ic8LQC4f"
      },
      "source": [
        "# THIS FUNCTION IS WORKING; while more testing is needed \n",
        "# (such as how to make sure it gives country specific results) \n",
        "# is it giving the data we need, at least in concept\n",
        "\n",
        "from bs4 import BeautifulSoup\n",
        "import requests\n",
        "\n",
        "\"\"\"\n",
        "REQUIRES: Proper google_tag and a real product name can be retreived from the item_language_country_google_tag_dictionary\n",
        "MODIFIES: \n",
        "EFFECTS:  Returns the product name, price, and url (as an array?); actually make it a nested list\n",
        "          [ [country1, [item_name_on_google_shopping, price, url, original_item_searched_for], [], ...], [[country2], [],[]]  ]\n",
        "\"\"\"\n",
        "\n",
        "#this should be a valid link where q = product, tbm can be nws shop etc\n",
        "\n",
        "def findPrices(abbreviation, product):\n",
        "    url = 'https://www.google{0}/search?psb=1&tbm=shop&q={1}'.format(abbreviation, product)\n",
        "    response = requests.get(url)\n",
        "    soup = BeautifulSoup(response.text, 'html.parser')\n",
        "    larger_div = soup.find_all(\"div\", {'class': \"P8xhZc\"})\n",
        "    for smaller in larger_div:\n",
        "      span_tag = smaller.find(\"span\", {\"class\": 'HRLxBb'})\n",
        "      print(span_tag.text)\n",
        "      a_tag = smaller.find('a')\n",
        "      print(a_tag.text)\n",
        "      print(a_tag['href'])\n",
        "      print(\"\\n\")\n",
        "   \n",
        "findPrices(\".com\",'watch')\n"
      ],
      "execution_count": null,
      "outputs": []
    },
    {
      "cell_type": "code",
      "metadata": {
        "id": "iunbmBprjYfS"
      },
      "source": [
        "\"\"\"\n",
        "REQUIRES: The output from find prices\n",
        "MODIFIES: prices_dictionary\n",
        "EFFECTS: Returns the prices_dictionary with all prices normalized to the same currency\n",
        "\"\"\"\n",
        "\n",
        "def convertPrices(prices_dictionary):\n"
      ],
      "execution_count": null,
      "outputs": []
    },
    {
      "cell_type": "code",
      "metadata": {
        "id": "9pUddScvkCDw"
      },
      "source": [
        "\"\"\"\n",
        "REQUIRES: The normalized_prices_dictionary\n",
        "MODIFIES: \n",
        "EFFECTS: Returns a sorted array, with the cheapest items at the top\n",
        "\"\"\"\n",
        "\n",
        "def sortPrices(normalized_prices_dictionary):"
      ],
      "execution_count": null,
      "outputs": []
    },
    {
      "cell_type": "code",
      "metadata": {
        "id": "cqRoR2NuJOgv"
      },
      "source": [
        "-Get list of google shopping urls (start with english versions)\n",
        "  *make this method able to call all english urls at first\n",
        "-one method running for english urls, start messing with google translate api\n",
        "  *make the method work for all languages\n",
        "\n",
        "....\n",
        "ashwin bridges with the price extraction\n",
        "....\n",
        "\n",
        "\n",
        "-apply conversion to prices based on country\n",
        "-merge prices together\n",
        "  *sort prices (look and see if there is already a good algo for this) and return cheapest"
      ],
      "execution_count": null,
      "outputs": []
    },
    {
      "cell_type": "code",
      "metadata": {
        "id": "--3hQd1jpdf9"
      },
      "source": [
        "#this function can probably be scrapped... we'll keep it for now though; refer to the function above\n",
        "\n",
        "from bs4 import BeautifulSoup\n",
        "import requests\n",
        "\n",
        "#https://www.google.com/search?psb=1&tbm=shop&q=laptop\n",
        "#this should be a valid link where q = product, tbm can be nws shop etc\n",
        "\n",
        "def findPrices(product):\n",
        "    url = 'https://www.google.co.jp/search?&source=lnms&tbm=shop&q={0}'.format(product)\n",
        "    #url = 'https://www.google.ac/search?&source=lnms&tbm=shop&q={0}'.format(product)\n",
        "    #url = 'https://www.google.com/search?psb=1&tbm=shop&q={0}'.format(product)\n",
        "    response = requests.get(url)\n",
        "    soup = BeautifulSoup(response.text, 'html.parser')\n",
        "    larger_div = soup.find_all(\"div\", {'class': \"P8xhZc\"})\n",
        "    for smaller in larger_div:\n",
        "      span_tag = smaller.find(\"span\", {\"class\": 'HRLxBb'})\n",
        "      print(span_tag.text)\n",
        "      a_tag = smaller.find('a')\n",
        "      print(a_tag.text)\n",
        "      print(a_tag['href'])\n",
        "      print(\"\\n\")\n",
        "   \n",
        "findPrices('コンピューター')"
      ],
      "execution_count": null,
      "outputs": []
    },
    {
      "cell_type": "code",
      "metadata": {
        "id": "SfAP_0hdSSZF"
      },
      "source": [
        "\n",
        "from bs4 import BeautifulSoup\n",
        "\n",
        "# get contents of json file\n",
        " rd = open(r\"C:\\Users\\colin\\Downloads\\S4DIMF.json\", \"r\")\n",
        " read = json.load(rd)\n",
        " rd.close()\n",
        "\n",
        "# make soup object\n",
        "url = \"https://www.imf.org/en/Publications/WP/Issues/2019/05/02/The-Great-Divide-Regional-Inequality-and-Fiscal-Policy-46745\"\n",
        "r = requests.get(url)\n",
        "soup = BeautifulSoup(r.content)\n",
        "\n",
        "def add_to_file(read):\n",
        "\tfor num in range(len(read)):\n",
        "\t\turl = read[num]['articleurl']\n",
        "\t\tr = requests.get(url)\n",
        "\t\tsoup = BeautifulSoup(r.content)\n",
        "\t\tread[num]['author'] = get_authors(soup)\n",
        "\trd = open(r\"C:\\Users\\colin\\Downloads\\S4DIMF.json\", \"r\")\n",
        "\tupdated = json.dump(read, rd)\n",
        "\treturn updated\n",
        "\n",
        "\n",
        "\n",
        "def get_authors(soup):\n",
        "\tx = soup.find_all(\"section\")\n",
        "\tlst = []\n",
        "\tq = 0\n",
        "\tfor x1 in x:\n",
        "\t\tw = x1.find_all(\"p\", {\"class\": \"pub-desc\"})  #same as g_data\n",
        "    \tfor w1 in w:\n",
        "    \t\twhile q < 1:\n",
        "    \t\t\tq += 1\n",
        "            \tg = w1.find_all(\"a\")\n",
        "            \tfor g1 in g:\n",
        "                \tlst.append(g1.text)\n",
        "            \treturn lst"
      ],
      "execution_count": null,
      "outputs": []
    }
  ]
}